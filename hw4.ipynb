{
  "cells": [
    {
      "cell_type": "markdown",
      "metadata": {
        "id": "hT2j-dwiSTmC"
      },
      "source": [
        "<a href=\"https://colab.research.google.com/github/roguxivlo/machine-learning-24L/blob/main/hw4.ipynb\" target=\"_parent\"><img src=\"https://colab.research.google.com/assets/colab-badge.svg\" alt=\"Open In Colab\"/></a>"
      ]
    },
    {
      "cell_type": "markdown",
      "metadata": {
        "id": "Dwr2VKN2STmE"
      },
      "source": [
        "# **Homework Assignment: Optimizing the Classification Threshold in Logistic Regression**\n",
        "\n",
        "-------------------------------\n",
        "\n",
        "In this assignment, you will explore the concept of **classification thresholds** in **Logistic Regression** and investigate whether the commonly used threshold of **0.5** is always the optimal choice. To complete this assignment, you will need to conduct **additional reading** on **ROC curves** and the **AUC metric**, beyond the materials covered in class.\n",
        "\n",
        "This exercise focuses on the **importance of threshold selection** and how it impacts model performance based on different evaluation criteria.\n",
        "\n",
        "\n",
        "\n",
        "## **The Objective**\n",
        "\n",
        "**Is a 0.5 threshold always the best choice in Logistic Regression?**\n",
        "\n",
        "- Analyze if the standard threshold of **0.5** always yields the most desirable results in various scenarios.\n",
        "- Investigate alternative thresholds and how they can improve model performance depending on the problem context.\n",
        "\n",
        "\n",
        "\n",
        "## **Helper Questions**\n",
        "\n",
        "1. **Would a different threshold yield better results?**  \n",
        "   - How does shifting the threshold affect the **trade-off between sensitivity and specificity**?\n",
        "\n",
        "2. **How do you define \"better\" results?**  \n",
        "   - Is **higher specificity** more valuable than **higher sensitivity** in certain contexts? Or maybe the other way around?\n",
        "   - Does the **best threshold** depend on the task? (discuss cases like *disease detection* vs. *spam filtering*)\n",
        "\n",
        "3. **How does a ROC curve help in this process?**  \n",
        "   - Learn how to use a **ROC curve** to visualize the trade-off between **True Positive Rate (Sensitivity)** and **False Positive Rate (1 - Specificity)**.\n",
        "\n",
        "4. **How do you select the optimal threshold using the ROC curve?**  \n",
        "   - Discuss strategies to select a threshold depending on the specific task at hand and the acceptable **trade-off between sensitivity and specificity**.\n",
        "\n",
        "5. **What is the AUC metric and how is it useful?**  \n",
        "   - Define **AUC (Area Under the Curve)** and discuss its role in evaluating the overall performance of a classifier.\n",
        "\n",
        "\n",
        "\n",
        "## **Tasks & Deliverables**\n",
        "\n",
        "1. **Colab Notebook**\n",
        "   - Select a suitable classification 2-class dataset.\n",
        "   - Divide the dataset into three parts: **train**, **validation**, and **test**.\n",
        "   - Train the **Logistic Regression** model on the **training** set.\n",
        "   - Use the **validation** set to:\n",
        "     - Plot the **ROC curve**.\n",
        "     - Calculate the **AUC**.\n",
        "     - Determine the **optimal threshold** using the ROC curve for your dataset.\n",
        "   - Apply the selected threshold to the **test** set to evaluate final model performance using metrics like:\n",
        "     - **Accuracy**\n",
        "     - **Precision & Recall**\n",
        "     - **F1-Score**\n",
        "     - **Specificity & Sensitivity**\n",
        "\n",
        "2. **Answer the Questions:**\n",
        "   - Use markdown cells to provide explanations.\n",
        "   - Answer all helper questions with supporting evidence from your plots and results.\n",
        "\n",
        "3. **Visualizations:**\n",
        "   - **ROC curve** based on the **validation** set with threshold points marked.\n",
        "   - Highlight the **optimal threshold** on the ROC curve.\n",
        "\n",
        "4. **Publish on GitHub**  \n",
        "   - Place the Colab notebook in your **GitHub repository** for this course.\n",
        "   - In your repository’s **README**, add a **link** to the notebook and also include an **“Open in Colab”** badge at the top of the notebook so it can be launched directly from GitHub.\n",
        "\n",
        "\n"
      ]
    }
  ],
  "metadata": {
    "colab": {
      "provenance": []
    },
    "language_info": {
      "name": "python"
    }
  },
  "nbformat": 4,
  "nbformat_minor": 0
}
