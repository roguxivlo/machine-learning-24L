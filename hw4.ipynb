{
  "cells": [
    {
      "cell_type": "markdown",
      "metadata": {
        "id": "hT2j-dwiSTmC"
      },
      "source": [
        "<a href=\"https://colab.research.google.com/github/roguxivlo/machine-learning-24L/blob/main/hw4.ipynb\" target=\"_parent\"><img src=\"https://colab.research.google.com/assets/colab-badge.svg\" alt=\"Open In Colab\"/></a>"
      ]
    },
    {
      "cell_type": "markdown",
      "metadata": {},
      "source": [
        "# **Homework Assignment: Analyzing and Plotting Bias in Penalized Regression**\n",
        "\n",
        "-------------------------------\n",
        "\n",
        "In this assignment, you will explore how **Ridge** and **Lasso** regression introduce **bias** into a model to reduce **variance**, and how the choice of the regularization parameter $\\lambda$ affects this trade-off. The goal is to visualize and analyze the **bias-variance trade-off** and understand the conditions under which penalization helps or hinders model performance.\n",
        "\n",
        "## **The Question**\n",
        "\n",
        "**How does varying the regularization parameter $\\lambda$ in Ridge and Lasso regression impact the trade-off between bias and variance?**\n",
        "\n",
        "- Generate a synthetic dataset based on a **known** linear relationship:\n",
        "  \n",
        "  $$\n",
        "  y = \\beta_0 + \\beta_1 x + \\ldots + \\epsilon\n",
        "  $$\n",
        "\n",
        "  where $$\\epsilon \\sim \\mathcal{N}(0, \\sigma^2),$$\n",
        "\n",
        "  use a **high-dimensional** setting (e.g., 50 predictors) with only a few non-zero true coefficients to emphasize the effects of regularization. I stress, the $\\beta_i$ coefficients should be known for this experiment and they should be mostly 0, with only a few non-zero parameters.\n",
        "\n",
        "- Investigate how increasing $\\lambda$ influences the model’s **bias**, **variance**, and **Mean Squared Error (MSE)**.\n",
        "- Plot **Bias²**, **Variance**, and **MSE** on a single graph for both Ridge and Lasso models.\n",
        "- Explain MSE decomposition into bias and variance. Read more on the MSE decomposition if you need to.\n",
        "\n",
        "**Does the regularization lead to an optimal trade-off point where MSE is minimized? Explain why this point exists.**\n",
        "\n",
        "\n",
        "\n",
        "\n",
        "**Expected Outcome:**\n",
        " - As $\\lambda$ increases:\n",
        "   - **Bias** increases (the model becomes too simple).\n",
        "   - **Variance** decreases (the model becomes more stable).\n",
        "   - **MSE** forms a **U-shape**, revealing the optimal trade-off.\n",
        "\n",
        "- Analyze how **Ridge** and **Lasso** differ in terms of their bias-variance trade-offs.\n",
        "- Discuss situations where one method may outperform the other, considering factors like **feature sparsity** and **multicollinearity**.\n",
        "\n",
        "\n",
        "## **Colab Notebook Requirements**\n",
        "- Your **Colab notebook** should:\n",
        "  - Simulate the synthetic dataset and apply Ridge and Lasso regression.\n",
        "  - Plot **Bias²**, **Variance**, and **MSE** against $\\lambda$ for both models.\n",
        "  - Include a section answering the questions.\n",
        "  - Be well-documented with comments and explanations for each step.\n",
        "\n",
        "\n",
        "## **Publish on GitHub**\n",
        "- Upload your Colab notebook to your **GitHub repository** for this course.\n",
        "- In your repository’s **README**, include a **link** to the notebook.\n",
        "- In the notebook include **“Open in Colab”** badge so the notebook can be launched directly from GitHub.\n"
      ]
    }
  ],
  "metadata": {
    "colab": {
      "provenance": []
    },
    "language_info": {
      "name": "python"
    }
  },
  "nbformat": 4,
  "nbformat_minor": 0
}
