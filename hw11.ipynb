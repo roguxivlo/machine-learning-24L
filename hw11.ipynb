{
  "cells": [
    {
      "cell_type": "markdown",
      "metadata": {
        "id": "hT2j-dwiSTmC"
      },
      "source": [
        "<a href=\"https://colab.research.google.com/github/roguxivlo/machine-learning-24L/blob/main/hw11.ipynb\" target=\"_parent\"><img src=\"https://colab.research.google.com/assets/colab-badge.svg\" alt=\"Open In Colab\"/></a>"
      ]
    },
    {
      "cell_type": "markdown",
      "source": [
        "# **Homework Assignment: Understanding Deconvolution in Autoencoders**\n",
        "---------------\n",
        "\n",
        "In class, we worked with autoencoders built from multilayer perceptrons (MLPs). However, encoders are often constructed using convolutional architectures to better capture spatial patterns. In this assignment, you'll explore how the decoder can use deconvolutional (transposed convolution) layers to reverse and mirror the operations performed by the convolutional encoder.\n",
        "\n",
        "While convolutional encoders are relatively well understood, **decoding (or upsampling) the compressed representation** using **deconvolutional layers** (also known as **transposed convolutions**) often raises questions.\n",
        "\n",
        "This assignment is particularly relevant because deconvolution is a core component of the U-Net architecture, a prominent neural network used extensively in image segmentation tasks.\n",
        "\n",
        "Your main objective is to deeply understand **how transposed convolution layers work**, and explain them in both words and visuals.\n",
        "\n",
        "\n",
        "## **The Objective**\n",
        "\n",
        "Understand and clearly explain how **transposed convolutions** work. Use 2D transposed convolutions and a small grid of 2D points as a working example.\n",
        "\n",
        "You may need to do some additional reading to complete this assignment.\n",
        "\n",
        "## **Tasks & Deliverables**\n",
        "\n",
        "### 1. **Theory Exploration**\n",
        "\n",
        "Using markdown cells in your Colab notebook, answer the following:\n",
        "\n",
        "- What is a **transposed convolution**?\n",
        "- How does it differ from a regular convolution?\n",
        "- How does it upsample feature maps?\n",
        "- What are **stride**, **padding**, and **kernel size**, and how do they influence the result in a transposed convolution?\n",
        "- To earn full two points, your explanation must be detailed enough for a reader to reproduce the upsampling process step by step.\n",
        "\n",
        "\n",
        "### 2. **Manual Diagram (by your hand, not a generated image)**\n",
        "\n",
        "Carefully plan and draw **by hand** a diagram or a set of diagrams that:\n",
        "\n",
        "- Explain the process of using **transposed convolution**.\n",
        "- Use an example of a **small input grid of 2D points** which gets expanded into a larger output grid.\n",
        "- Explain how stride, padding, and the kernel shape affect the result.\n",
        "- Show intermediate steps of the operation, not just input and output.\n",
        "\n",
        "**Scan or photograph your diagram(s)**, and upload it to your **GitHub repository** for this course.\n",
        "\n",
        "Then embed it in your Colab notebook using markdown (you can find examples on *how to do it* in previous notebooks related to this class, e.g. the one on linear regression or the one on the MLP network).\n",
        "\n",
        "\n",
        "### 3. **Publish on GitHub**  \n",
        "   - Place the Colab notebook in your **GitHub repository** for this course.\n",
        "   - In your repository’s **README**, add a **link** to the notebook and also include an **“Open in Colab”** badge at the top of the notebook so it can be launched directly from GitHub.\n"
      ],
      "metadata": {
        "id": "WQXP0vAg_DOR"
      }
    },
    {
      "cell_type": "markdown",
      "source": [
        "# Theory explanation\n",
        "\n",
        "## Transposed convolution\n",
        "\n",
        "The goal of convolution is to downscale images, the goal of transposed convolution is in contrast to upscale them to the original size.\n",
        "\n",
        "## Motivation behind the name \"transposed convolution\"\n",
        "\n",
        "Let's start by examining a simple example of convolution layer:\n",
        "\n",
        "\\begin{align*}\n",
        "    & H_{in} = W_{in} = 3\\\\\n",
        "    & \\text{Kernel } K\\in \\mathbb{R}^{2\\times 2}\\\\\n",
        "    & I = \\begin{pmatrix}\n",
        "            1 & 2 & 3\\\\\n",
        "            1 & 1 & 1 \\\\\n",
        "            2 & 3 & 4\n",
        "            \\end{pmatrix}, \\quad\n",
        "    K = \\begin{pmatrix}\n",
        "            2& 3 \\\\\n",
        "            1 & 2 \\\\\n",
        "            \\end{pmatrix} \\\\\n",
        "    &\\text{Stride }S = 1, \\text{ no padding}\n",
        "\\end{align*}\n",
        "Then the result will be:\n",
        "$ C =\n",
        "\\begin{pmatrix}\n",
        "    11 & 16\\\\\n",
        "    13 & 16\n",
        "\\end{pmatrix}\n",
        "$\n",
        "Notice, that we can express the convolution operation in the language of matrix multiplication.\n",
        "\n",
        "Our goal is to express convolution layer as a matrix, and image as a vector. Let's flatten $I$ like so:\n",
        "$$\n",
        "I_{\\text{flattened}} =\n",
        "\\begin{pmatrix}\n",
        "    1\\\\ 2 \\\\ 3 \\\\ 1 \\\\ 1 \\\\ 1 \\\\ 2 \\\\ 3 \\\\ 4\n",
        "\\end{pmatrix}\n",
        "$$\n",
        "\n",
        "Now we just need to find the right matrix $K'$ such that the result of\n",
        "$\n",
        "K'\\cdot I_\\text{flattened}\n",
        "$ will be our output $C_{\\text{flattened}}$:\n",
        "$$\n",
        "C_{\\text{flattened}} =\n",
        "\\begin{pmatrix}\n",
        "    11 \\\\ 16 \\\\ 13 \\\\ 16\n",
        "\\end{pmatrix}\n",
        "$$\n",
        "\n",
        "The matrix $K'$ will be:\n",
        "$$\n",
        "K' =\n",
        "\\begin{pmatrix}\n",
        "    2 & 3 & 0 & 1 & 2 & 0 & 0 & 0 & 0 \\\\\n",
        "    0 & 2 & 3 & 0 & 1 & 2 & 0 & 0 & 0 \\\\\n",
        "    0 & 0 & 0 & 2 & 3 & 0 & 1 & 2 & 0 \\\\\n",
        "    0 & 0 & 0 & 0 & 2 & 3 & 0 & 1 & 2 \\\\\n",
        "\\end{pmatrix}\n",
        "$$\n",
        "\n",
        "Now, notice that the result of $K'^T \\cdot C_\\text{flattened}$ has the same dimensions as the input image (although the exact vector will be different from input). Hence the name transposed convolution. In practice, the transposed kernel weights are learnt, and different from the original kernel"
      ],
      "metadata": {
        "id": "M3Y8YL3U_OhU"
      }
    },
    {
      "cell_type": "markdown",
      "source": [
        "## The parameters\n",
        "\n",
        "In this section, we explore the meaning of transposed convolution parameters:\n",
        "\n",
        "- Kernel size\n",
        "- Stride\n",
        "- Padding"
      ],
      "metadata": {
        "id": "7QPzaaF3JaqK"
      }
    },
    {
      "cell_type": "markdown",
      "source": [
        "### Kernel size"
      ],
      "metadata": {
        "id": "Vv6N0JigJp2L"
      }
    },
    {
      "cell_type": "markdown",
      "source": [
        "### Stride\n",
        "\n"
      ],
      "metadata": {
        "id": "sIpgo7gSJgsp"
      }
    },
    {
      "cell_type": "markdown",
      "source": [
        "### Padding\n"
      ],
      "metadata": {
        "id": "JfKqGkavJu52"
      }
    }
  ],
  "metadata": {
    "colab": {
      "provenance": [],
      "toc_visible": true
    },
    "kernelspec": {
      "display_name": "Python 3",
      "language": "python",
      "name": "python3"
    },
    "language_info": {
      "codemirror_mode": {
        "name": "ipython",
        "version": 3
      },
      "file_extension": ".py",
      "mimetype": "text/x-python",
      "name": "python",
      "nbconvert_exporter": "python",
      "pygments_lexer": "ipython3",
      "version": "3.11.9"
    }
  },
  "nbformat": 4,
  "nbformat_minor": 0
}